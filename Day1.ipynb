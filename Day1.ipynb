{
  "nbformat": 4,
  "nbformat_minor": 0,
  "metadata": {
    "colab": {
      "provenance": []
    },
    "kernelspec": {
      "name": "python3",
      "display_name": "Python 3"
    },
    "language_info": {
      "name": "python"
    }
  },
  "cells": [
    {
      "cell_type": "code",
      "execution_count": null,
      "metadata": {
        "colab": {
          "base_uri": "https://localhost:8080/"
        },
        "id": "NXmvHYe0fDst",
        "outputId": "8d66573b-deb6-4ca4-ccab-78ef74ad1451"
      },
      "outputs": [
        {
          "output_type": "stream",
          "name": "stdout",
          "text": [
            "coffee\n"
          ]
        }
      ],
      "source": [
        "print ('coffee')"
      ]
    },
    {
      "cell_type": "code",
      "source": [
        "x,y=5,10\n",
        "(x*y)\n",
        "id(x)\n",
        "id(y)\n",
        "x+5,y+2\n",
        "x,y=x+10,y+5\n",
        "x,y\n",
        "print (x,y)"
      ],
      "metadata": {
        "colab": {
          "base_uri": "https://localhost:8080/"
        },
        "id": "h1WEuUIg7Ylz",
        "outputId": "5ce55d34-3c3f-40e0-938a-8047be0d8364"
      },
      "execution_count": null,
      "outputs": [
        {
          "output_type": "stream",
          "name": "stdout",
          "text": [
            "15 15\n"
          ]
        }
      ]
    },
    {
      "cell_type": "code",
      "source": [
        "print (547*8)"
      ],
      "metadata": {
        "colab": {
          "base_uri": "https://localhost:8080/"
        },
        "id": "L6ZhEJ11fci0",
        "outputId": "d4789632-2100-4076-f646-141efc0a79b0"
      },
      "execution_count": null,
      "outputs": [
        {
          "output_type": "stream",
          "name": "stdout",
          "text": [
            "4376\n"
          ]
        }
      ]
    },
    {
      "cell_type": "code",
      "source": [
        "In[3]:x=10\n",
        "In[4]: print (x)\n",
        "In[5]:print(x+x)\n",
        "In[6]:print(x*x)\n",
        "In[7]: print (x-x)\n",
        "In[7]: print(x)"
      ],
      "metadata": {
        "colab": {
          "base_uri": "https://localhost:8080/"
        },
        "id": "jUjmHmKYf_DO",
        "outputId": "b87b686a-1823-4a7b-c6cc-dbd51474837b"
      },
      "execution_count": null,
      "outputs": [
        {
          "output_type": "stream",
          "name": "stdout",
          "text": [
            "10\n",
            "20\n",
            "100\n",
            "0\n",
            "10\n"
          ]
        }
      ]
    },
    {
      "cell_type": "code",
      "source": [
        "x=5\n",
        "print(x)\n",
        "y=3\n",
        "print(y)\n",
        "print(x+y)\n",
        "print(x*y)\n",
        "print (x-y)\n",
        "print (y-x)\n",
        "print (x//y)"
      ],
      "metadata": {
        "colab": {
          "base_uri": "https://localhost:8080/"
        },
        "id": "EPV48eGIimEx",
        "outputId": "3da2d4ee-eb89-45b4-faec-37feb67e09a5"
      },
      "execution_count": null,
      "outputs": [
        {
          "output_type": "stream",
          "name": "stdout",
          "text": [
            "5\n",
            "3\n",
            "8\n",
            "15\n",
            "2\n",
            "-2\n",
            "1\n"
          ]
        }
      ]
    },
    {
      "cell_type": "code",
      "source": [
        "x=y=z=10\n",
        "print (x)\n",
        "print (y)\n",
        "print (z)\n",
        "print(x+y)\n",
        "print(x+y+z)\n",
        "print (x+y-z)\n",
        "print (x-y-z)\n",
        "print (x+y-z)"
      ],
      "metadata": {
        "colab": {
          "base_uri": "https://localhost:8080/"
        },
        "id": "mEVp0tbtpVsQ",
        "outputId": "53748673-6bd6-4287-8f66-9aec76c8ce1c"
      },
      "execution_count": null,
      "outputs": [
        {
          "output_type": "stream",
          "name": "stdout",
          "text": [
            "10\n",
            "10\n",
            "10\n",
            "20\n",
            "30\n",
            "10\n",
            "-10\n",
            "10\n"
          ]
        }
      ]
    },
    {
      "cell_type": "code",
      "source": [
        "a,b=5,10\n",
        "print (a)\n",
        "print (b)\n",
        "print (a*b)\n",
        "print (b+a)\n",
        "print (a-b)\n",
        "print (b-a)\n",
        "print (b//a)\n",
        "print (a//b)"
      ],
      "metadata": {
        "colab": {
          "base_uri": "https://localhost:8080/"
        },
        "id": "j2shAqL8qfxQ",
        "outputId": "b9948e56-5a3f-4b4c-fa6e-1a19d0e12bca"
      },
      "execution_count": null,
      "outputs": [
        {
          "output_type": "stream",
          "name": "stdout",
          "text": [
            "5\n",
            "10\n",
            "50\n",
            "15\n",
            "-5\n",
            "5\n",
            "2\n",
            "0\n"
          ]
        }
      ]
    },
    {
      "cell_type": "code",
      "source": [
        "x,y=15,20\n",
        "print (x,y)\n",
        "x,y=y,x\n",
        "print (x,y)"
      ],
      "metadata": {
        "colab": {
          "base_uri": "https://localhost:8080/"
        },
        "id": "0mfdRoiZrypJ",
        "outputId": "a4d8e20c-76d5-4a99-c0ad-9033445dd61f"
      },
      "execution_count": null,
      "outputs": [
        {
          "output_type": "stream",
          "name": "stdout",
          "text": [
            "15 20\n",
            "20 15\n"
          ]
        }
      ]
    },
    {
      "cell_type": "code",
      "source": [
        "a,b,c=5,10,15\n",
        "b,c,a=a+1,b+2,c-1\n",
        "print (a,b,c)\n",
        "a,b=a-2,b+5\n",
        "print (a,b)\n",
        "print (a,b,c)"
      ],
      "metadata": {
        "colab": {
          "base_uri": "https://localhost:8080/"
        },
        "id": "aNdPY1LWs3rn",
        "outputId": "7382a97a-41b6-42b7-f94a-22070b4a05cd"
      },
      "execution_count": null,
      "outputs": [
        {
          "output_type": "stream",
          "name": "stdout",
          "text": [
            "14 6 12\n",
            "12 11\n",
            "12 11 12\n"
          ]
        }
      ]
    },
    {
      "cell_type": "code",
      "source": [
        "p,q=3,5\n",
        "q,r=p-2,p+2\n",
        "print (p,q,r)"
      ],
      "metadata": {
        "colab": {
          "base_uri": "https://localhost:8080/"
        },
        "id": "iuJOoGCnv-gR",
        "outputId": "40964b97-93ac-4d74-c78c-d5013055de2d"
      },
      "execution_count": null,
      "outputs": [
        {
          "output_type": "stream",
          "name": "stdout",
          "text": [
            "3 1 5\n"
          ]
        }
      ]
    },
    {
      "cell_type": "code",
      "source": [
        "x=10\n",
        "y,y=x+2,x+5\n",
        "print (y)"
      ],
      "metadata": {
        "colab": {
          "base_uri": "https://localhost:8080/"
        },
        "id": "qCO80FFPw9Ih",
        "outputId": "cfbf2786-e108-4f2a-f7e6-f15a867f0d0a"
      },
      "execution_count": null,
      "outputs": [
        {
          "output_type": "stream",
          "name": "stdout",
          "text": [
            "15\n"
          ]
        }
      ]
    },
    {
      "cell_type": "code",
      "source": [
        "x=10\n",
        "y,x=x+5,x+x\n",
        "print (x,y)\n",
        "x,y=x-1,y+3\n",
        "print (y,x)"
      ],
      "metadata": {
        "colab": {
          "base_uri": "https://localhost:8080/"
        },
        "id": "pM9JOnDNyMx0",
        "outputId": "cff597e9-1ad6-43e9-ed8d-07f68ca20acc"
      },
      "execution_count": null,
      "outputs": [
        {
          "output_type": "stream",
          "name": "stdout",
          "text": [
            "20 15\n",
            "18 19\n"
          ]
        }
      ]
    },
    {
      "cell_type": "code",
      "source": [
        "x,x=20,30\n",
        "print (x)\n",
        "x,y=x-5,y+5\n",
        "print (x,y)"
      ],
      "metadata": {
        "colab": {
          "base_uri": "https://localhost:8080/"
        },
        "id": "34tz7wItzXTQ",
        "outputId": "d3d50688-ba39-492e-df24-bbdb51df528f"
      },
      "execution_count": null,
      "outputs": [
        {
          "output_type": "stream",
          "name": "stdout",
          "text": [
            "30\n",
            "25 31\n"
          ]
        }
      ]
    },
    {
      "cell_type": "code",
      "source": [
        "x=10\n",
        "print (x)\n",
        "print(id(x))"
      ],
      "metadata": {
        "colab": {
          "base_uri": "https://localhost:8080/"
        },
        "id": "DIDhqKq2ia9G",
        "outputId": "fa0f2789-8add-4396-aef0-8a494c2bf084"
      },
      "execution_count": null,
      "outputs": [
        {
          "output_type": "stream",
          "name": "stdout",
          "text": [
            "10\n",
            "9793376\n"
          ]
        }
      ]
    },
    {
      "cell_type": "code",
      "source": [
        "a=5\n",
        "print (a)\n",
        "print (id(a))\n",
        "a=5+7\n",
        "print (a)\n",
        "print (id(a))"
      ],
      "metadata": {
        "colab": {
          "base_uri": "https://localhost:8080/"
        },
        "id": "ngGZAQCvi-2G",
        "outputId": "d63b1139-b16b-4783-eaab-2a88ef34d3b9"
      },
      "execution_count": null,
      "outputs": [
        {
          "output_type": "stream",
          "name": "stdout",
          "text": [
            "5\n",
            "9793216\n",
            "12\n",
            "9793440\n"
          ]
        }
      ]
    },
    {
      "cell_type": "code",
      "source": [
        "a,b=10,20\n",
        "print (a)\n",
        "print (b)\n",
        "print (a+b)\n",
        "print (id(a))\n",
        "print (id(b))\n",
        "print (id(a+b))\n",
        "print (a-b)\n",
        "print (id(a-b))\n",
        "print (a//b)\n",
        "print (id(a//b))\n",
        "a=50\n",
        "print (a+b)\n",
        "a,b=0,5\n",
        "print (a-b)\n",
        "print (id(b))\n",
        "print (id(a-b))"
      ],
      "metadata": {
        "colab": {
          "base_uri": "https://localhost:8080/"
        },
        "id": "3iCGd_77jlJ_",
        "outputId": "b284542d-f659-4aef-e09f-b085fc09ddd7"
      },
      "execution_count": null,
      "outputs": [
        {
          "output_type": "stream",
          "name": "stdout",
          "text": [
            "10\n",
            "20\n",
            "30\n",
            "9793376\n",
            "9793696\n",
            "9794016\n",
            "-10\n",
            "139998367334960\n",
            "0\n",
            "9793056\n",
            "70\n",
            "-5\n",
            "9793216\n",
            "9792896\n"
          ]
        }
      ]
    },
    {
      "cell_type": "code",
      "source": [
        "x,y=3,6\n",
        "print (x,y)\n",
        "print (type(x))\n",
        "print (type (y))\n",
        "print (y-x)\n",
        "print (type(x-y))"
      ],
      "metadata": {
        "colab": {
          "base_uri": "https://localhost:8080/"
        },
        "id": "vB70cNN2lIKH",
        "outputId": "d25de59e-7332-47ac-95b0-430fe3fbc9b6"
      },
      "execution_count": null,
      "outputs": [
        {
          "output_type": "stream",
          "name": "stdout",
          "text": [
            "3 6\n",
            "<class 'int'>\n",
            "<class 'int'>\n",
            "3\n",
            "<class 'int'>\n"
          ]
        }
      ]
    },
    {
      "cell_type": "code",
      "source": [
        "p,q=0.5,0.5\n",
        "print (p)\n",
        "print (q)\n",
        "print (p+q)\n",
        "print (id(p))\n",
        "print (id(q))\n",
        "print (id(p+q))\n",
        "print (type (p))\n",
        "print (type (q))\n",
        "print (type (p+q))\n",
        "print (p+1)\n",
        "print (p+q)\n",
        "p,q=p+1,q+1\n",
        "print (p,q)\n",
        "print (type(p))\n",
        "print (p+q)"
      ],
      "metadata": {
        "colab": {
          "base_uri": "https://localhost:8080/"
        },
        "id": "I1oPfDgZmOFz",
        "outputId": "6d0ffac1-be20-4a6e-be55-a4d487d531d6"
      },
      "execution_count": null,
      "outputs": [
        {
          "output_type": "stream",
          "name": "stdout",
          "text": [
            "0.5\n",
            "0.5\n",
            "1.0\n",
            "139998367336464\n",
            "139998367336464\n",
            "139998367337616\n",
            "<class 'float'>\n",
            "<class 'float'>\n",
            "<class 'float'>\n",
            "1.5\n",
            "1.0\n",
            "1.5 1.5\n",
            "<class 'float'>\n",
            "3.0\n"
          ]
        }
      ]
    },
    {
      "cell_type": "code",
      "source": [
        "c=\"pencil\"\n",
        "print (c)\n",
        "print (id(c))\n",
        "print (type (c))\n",
        "c=a+50\n",
        "print (c)\n",
        "print (id(c))\n",
        "print (type (c))\n",
        "print (c)\n",
        "c=\"pencil\"\n",
        "print (type (c))\n",
        "print (id(c))"
      ],
      "metadata": {
        "colab": {
          "base_uri": "https://localhost:8080/"
        },
        "id": "-i3OyC8poSgk",
        "outputId": "0cfba565-0237-4209-df3b-723e37ca11e8"
      },
      "execution_count": null,
      "outputs": [
        {
          "output_type": "stream",
          "name": "stdout",
          "text": [
            "pencil\n",
            "139998416824048\n",
            "<class 'str'>\n",
            "50\n",
            "9794656\n",
            "<class 'int'>\n",
            "50\n",
            "<class 'str'>\n",
            "139998416824048\n"
          ]
        }
      ]
    },
    {
      "cell_type": "code",
      "source": [],
      "metadata": {
        "id": "JDfCjmEOpuTp"
      },
      "execution_count": null,
      "outputs": []
    },
    {
      "cell_type": "code",
      "source": [
        "x,x=20,30\n",
        "y,y=x+10,x+10\n",
        "print (x,y)\n",
        "y=x+5\n",
        "print (y)"
      ],
      "metadata": {
        "colab": {
          "base_uri": "https://localhost:8080/"
        },
        "id": "Ub0zhjLZ1QSC",
        "outputId": "9c6ff449-1c5f-4af5-8220-d0a7073a08aa"
      },
      "execution_count": null,
      "outputs": [
        {
          "output_type": "stream",
          "name": "stdout",
          "text": [
            "30 40\n",
            "35\n"
          ]
        }
      ]
    },
    {
      "cell_type": "code",
      "source": [
        "x=0\n",
        "print (x)\n",
        "x=30\n",
        "print (x)\n",
        "x=\"coffee\"\n",
        "print (x)\n",
        "x,x=30,\"coffee\"\n",
        "print (x)\n",
        "x,y=10,\"coffee\"\n",
        "print (x)\n",
        "print (y)\n",
        "x,y=x+5,x-5\n",
        "print (x,y)\n",
        "x,y=x+1,y+1\n",
        "print (x)\n",
        "print (y)"
      ],
      "metadata": {
        "colab": {
          "base_uri": "https://localhost:8080/"
        },
        "id": "PuROYx-Z3fha",
        "outputId": "fa1fc2d5-bd47-4620-f7cc-0aea6fd9d00e"
      },
      "execution_count": null,
      "outputs": [
        {
          "output_type": "stream",
          "name": "stdout",
          "text": [
            "0\n",
            "30\n",
            "coffee\n",
            "coffee\n",
            "10\n",
            "coffee\n",
            "15 5\n",
            "16\n",
            "6\n"
          ]
        }
      ]
    }
  ]
}